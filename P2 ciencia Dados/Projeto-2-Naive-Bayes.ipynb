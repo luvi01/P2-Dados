{
 "cells": [
  {
   "cell_type": "markdown",
   "metadata": {},
   "source": [
    "# Projeto 2 - Classificador Automático de Sentimento\n",
    "\n",
    "Você foi contratado por uma empresa para analisar como os clientes estão reagindo a um determinado produto no Twitter. A empresa deseja que você crie um programa que irá analisar as mensagens disponíveis e classificará como \"relevante\" ou \"irrelevante\". Com isso ela deseja que mensagens negativas, que denigrem o nome do produto, ou que mereçam destaque, disparem um foco de atenção da área de marketing.<br /><br />\n",
    "Como aluno de Ciência dos Dados, você lembrou do Teorema de Bayes, mais especificamente do Classificador Naive-Bayes, que é largamente utilizado em filtros anti-spam de e-mails. O classificador permite calcular qual a probabilidade de uma mensagem ser relevante dadas as palavras em seu conteúdo.<br /><br />\n",
    "Para realizar o MVP (*minimum viable product*) do projeto, você precisa implementar uma versão do classificador que \"aprende\" o que é relevante com uma base de treinamento e compara a performance dos resultados com uma base de testes.<br /><br />\n",
    "Após validado, o seu protótipo poderá também capturar e classificar automaticamente as mensagens da plataforma.\n",
    "\n",
    "## Informações do Projeto\n",
    "\n",
    "Prazo: 19/Set até às 23:59.<br />\n",
    "Grupo: 2 ou 3 pessoas - grupos com 3 pessoas terá uma rubrica diferenciada.<br /><br />\n",
    "Entregáveis via GitHub: \n",
    "* Arquivo notebook com o código do classificador, seguindo as orientações abaixo.\n",
    "* Arquivo Excel com as bases de treinamento e teste totalmente classificado.\n",
    "\n",
    "**NÃO gravar a key do professor no arquivo**\n",
    "\n",
    "\n",
    "### Entrega Intermediária: Check 1 - APS 2\n",
    "\n",
    "Até o dia 10/Set às 23:59, xlsx deve estar no Github com as seguintes evidências: \n",
    "\n",
    "  * Produto escolhido.\n",
    "  * Arquivo Excel contendo a base de treinamento e a base de testes já classificadas.\n",
    "\n",
    "Sugestão de leitura:<br />\n",
    "https://monkeylearn.com/blog/practical-explanation-naive-bayes-classifier/"
   ]
  },
  {
   "cell_type": "markdown",
   "metadata": {},
   "source": [
    "___\n",
    "\n",
    "## Parte I - Adquirindo a Base de Dados\n",
    "\n",
    "Acessar o notebook **Projeto-2-Planilha** para realizar a coleta dos dados. O grupo deve classificar os dados coletados manualmente."
   ]
  },
  {
   "cell_type": "markdown",
   "metadata": {},
   "source": [
    "___\n",
    "## Parte II - Montando o Classificador Naive-Bayes\n",
    "\n",
    "Com a base de treinamento montada, comece a desenvolver o classificador. Não se esqueça de implementar o Laplace Smoothing (https://en.wikipedia.org/wiki/Laplace_smoothing).\n",
    "\n",
    "Opcionalmente: \n",
    "* Limpar as mensagens removendo os caracteres: enter, :, \", ', (, ), etc. Não remover emojis.<br />\n",
    "* Corrigir separação de espaços entre palavras e/ou emojis.\n",
    "* Propor outras limpezas/transformações que não afetem a qualidade da informação.\n",
    "\n",
    "Escreva o seu código abaixo:"
   ]
  },
  {
   "cell_type": "code",
   "execution_count": 120,
   "metadata": {},
   "outputs": [],
   "source": [
    "import pandas as pd\n",
    "import numpy as np\n",
    "import json\n",
    "treinamento = pd.read_excel('tweetsmarlboro.xlsx')\n",
    "treinamento = treinamento.loc[:,[\"Treinamento\",\"Relevante\"]]\n",
    "treinamento.head()\n",
    "relevantes = treinamento[(treinamento['Relevante']==1)]\n",
    "irrelevantes = treinamento[(treinamento['Relevante']==0)]"
   ]
  },
  {
   "cell_type": "code",
   "execution_count": 121,
   "metadata": {},
   "outputs": [
    {
     "data": {
      "text/html": [
       "<div>\n",
       "<style scoped>\n",
       "    .dataframe tbody tr th:only-of-type {\n",
       "        vertical-align: middle;\n",
       "    }\n",
       "\n",
       "    .dataframe tbody tr th {\n",
       "        vertical-align: top;\n",
       "    }\n",
       "\n",
       "    .dataframe thead th {\n",
       "        text-align: right;\n",
       "    }\n",
       "</style>\n",
       "<table border=\"1\" class=\"dataframe\">\n",
       "  <thead>\n",
       "    <tr style=\"text-align: right;\">\n",
       "      <th></th>\n",
       "      <th>Treinamento</th>\n",
       "      <th>Relevante</th>\n",
       "    </tr>\n",
       "  </thead>\n",
       "  <tbody>\n",
       "    <tr>\n",
       "      <th>0</th>\n",
       "      <td>rt @1990sf1: ayrton senna (marlboro mclaren-ho...</td>\n",
       "      <td>1.0</td>\n",
       "    </tr>\n",
       "    <tr>\n",
       "      <th>1</th>\n",
       "      <td>nws alert&amp;gt; flood advisory: affected locatio...</td>\n",
       "      <td>0.0</td>\n",
       "    </tr>\n",
       "    <tr>\n",
       "      <th>2</th>\n",
       "      <td>rt @1990sf1: ayrton senna (marlboro mclaren-ho...</td>\n",
       "      <td>1.0</td>\n",
       "    </tr>\n",
       "    <tr>\n",
       "      <th>3</th>\n",
       "      <td>ciggie jacket look from yesterday\\n#marlboro #...</td>\n",
       "      <td>1.0</td>\n",
       "    </tr>\n",
       "    <tr>\n",
       "      <th>4</th>\n",
       "      <td>at least four marlboro men have died of smokin...</td>\n",
       "      <td>1.0</td>\n",
       "    </tr>\n",
       "  </tbody>\n",
       "</table>\n",
       "</div>"
      ],
      "text/plain": [
       "                                         Treinamento  Relevante\n",
       "0  rt @1990sf1: ayrton senna (marlboro mclaren-ho...        1.0\n",
       "1  nws alert&gt; flood advisory: affected locatio...        0.0\n",
       "2  rt @1990sf1: ayrton senna (marlboro mclaren-ho...        1.0\n",
       "3  ciggie jacket look from yesterday\\n#marlboro #...        1.0\n",
       "4  at least four marlboro men have died of smokin...        1.0"
      ]
     },
     "execution_count": 121,
     "metadata": {},
     "output_type": "execute_result"
    }
   ],
   "source": [
    "treinamento.head()"
   ]
  },
  {
   "cell_type": "code",
   "execution_count": 122,
   "metadata": {
    "scrolled": true
   },
   "outputs": [
    {
     "data": {
      "text/plain": [
       "marlboro    117\n",
       "rt           49\n",
       "the          36\n",
       "a            32\n",
       "i            29\n",
       "dtype: int64"
      ]
     },
     "execution_count": 122,
     "metadata": {},
     "output_type": "execute_result"
    }
   ],
   "source": [
    "relevantestring = \" \".join(list(relevantes.Treinamento))\n",
    "relevanteslimpo = relevantestring.replace('.','')\n",
    "relevanteslimpo = relevanteslimpo.replace(',','')\n",
    "relevanteslimpo = relevanteslimpo.replace(';','')\n",
    "relevanteslimpo = relevanteslimpo.replace(':','')\n",
    "relevanteslimpo = relevanteslimpo.replace('\"','')\n",
    "relevanteslimpo = relevanteslimpo.replace('!','')\n",
    "relevanteslimpo = relevanteslimpo.replace('(','')\n",
    "relevanteslimpo = relevanteslimpo.replace(')','')\n",
    "relevanteslimpo = relevanteslimpo.replace('?','')\n",
    "relevanteslimpo = relevanteslimpo.replace('*','')\n",
    "\n",
    "Relevantes = pd.Series((relevanteslimpo).split()).value_counts()\n",
    "Relevantes.head()"
   ]
  },
  {
   "cell_type": "code",
   "execution_count": 123,
   "metadata": {},
   "outputs": [
    {
     "data": {
      "text/plain": [
       "marlboro    146\n",
       "md          115\n",
       "rt          110\n",
       "the          98\n",
       "a            52\n",
       "dtype: int64"
      ]
     },
     "execution_count": 123,
     "metadata": {},
     "output_type": "execute_result"
    }
   ],
   "source": [
    "irrelevantestring = \" \".join(list(irrelevantes.Treinamento))\n",
    "irrelevanteslimpo = irrelevantestring.replace('.','')\n",
    "irrelevanteslimpo = irrelevanteslimpo.replace(',','')\n",
    "irrelevanteslimpo = irrelevanteslimpo.replace(';','')\n",
    "irrelevanteslimpo = irrelevanteslimpo.replace(':','')\n",
    "irrelevanteslimpo = irrelevanteslimpo.replace('\"','')\n",
    "irrelevanteslimpo = irrelevanteslimpo.replace('!','')\n",
    "irrelevanteslimpo = irrelevanteslimpo.replace('(','')\n",
    "irrelevanteslimpo = irrelevanteslimpo.replace(')','')\n",
    "irrelevanteslimpo = irrelevanteslimpo.replace('?','')\n",
    "irrelevanteslimpo = irrelevanteslimpo.replace('*','')\n",
    "Irrelevantes = pd.Series((irrelevanteslimpo).split()).value_counts()\n",
    "Irrelevantes.head()"
   ]
  },
  {
   "cell_type": "code",
   "execution_count": 124,
   "metadata": {},
   "outputs": [
    {
     "data": {
      "text/plain": [
       "3382"
      ]
     },
     "execution_count": 124,
     "metadata": {},
     "output_type": "execute_result"
    }
   ],
   "source": [
    "Irreaspera = Irrelevantes.sum()\n",
    "Releaspera = Relevantes.sum()\n",
    "Irreaspera"
   ]
  },
  {
   "cell_type": "code",
   "execution_count": 125,
   "metadata": {},
   "outputs": [],
   "source": [
    "for p in Irrelevantes.index:\n",
    "    Irrelevantes[p]+=1"
   ]
  },
  {
   "cell_type": "code",
   "execution_count": 126,
   "metadata": {},
   "outputs": [
    {
     "data": {
      "text/plain": [
       "4387"
      ]
     },
     "execution_count": 126,
     "metadata": {},
     "output_type": "execute_result"
    }
   ],
   "source": [
    "irretotal = Irrelevantes.sum()\n",
    "irretotal"
   ]
  },
  {
   "cell_type": "code",
   "execution_count": 127,
   "metadata": {},
   "outputs": [],
   "source": [
    "dfi = Irrelevantes.to_frame()\n",
    "dfi.columns = [\"Quantidade\"]"
   ]
  },
  {
   "cell_type": "code",
   "execution_count": 128,
   "metadata": {},
   "outputs": [],
   "source": [
    "dfi[\"prob\"] = dfi[\"Quantidade\"]/irretotal"
   ]
  },
  {
   "cell_type": "code",
   "execution_count": 129,
   "metadata": {},
   "outputs": [
    {
     "data": {
      "text/html": [
       "<div>\n",
       "<style scoped>\n",
       "    .dataframe tbody tr th:only-of-type {\n",
       "        vertical-align: middle;\n",
       "    }\n",
       "\n",
       "    .dataframe tbody tr th {\n",
       "        vertical-align: top;\n",
       "    }\n",
       "\n",
       "    .dataframe thead th {\n",
       "        text-align: right;\n",
       "    }\n",
       "</style>\n",
       "<table border=\"1\" class=\"dataframe\">\n",
       "  <thead>\n",
       "    <tr style=\"text-align: right;\">\n",
       "      <th></th>\n",
       "      <th>Quantidade</th>\n",
       "      <th>prob</th>\n",
       "    </tr>\n",
       "  </thead>\n",
       "  <tbody>\n",
       "    <tr>\n",
       "      <th>marlboro</th>\n",
       "      <td>147</td>\n",
       "      <td>0.033508</td>\n",
       "    </tr>\n",
       "    <tr>\n",
       "      <th>md</th>\n",
       "      <td>116</td>\n",
       "      <td>0.026442</td>\n",
       "    </tr>\n",
       "    <tr>\n",
       "      <th>rt</th>\n",
       "      <td>111</td>\n",
       "      <td>0.025302</td>\n",
       "    </tr>\n",
       "    <tr>\n",
       "      <th>the</th>\n",
       "      <td>99</td>\n",
       "      <td>0.022567</td>\n",
       "    </tr>\n",
       "    <tr>\n",
       "      <th>a</th>\n",
       "      <td>53</td>\n",
       "      <td>0.012081</td>\n",
       "    </tr>\n",
       "  </tbody>\n",
       "</table>\n",
       "</div>"
      ],
      "text/plain": [
       "          Quantidade      prob\n",
       "marlboro         147  0.033508\n",
       "md               116  0.026442\n",
       "rt               111  0.025302\n",
       "the               99  0.022567\n",
       "a                 53  0.012081"
      ]
     },
     "execution_count": 129,
     "metadata": {},
     "output_type": "execute_result"
    }
   ],
   "source": [
    "dfi.head()"
   ]
  },
  {
   "cell_type": "code",
   "execution_count": 130,
   "metadata": {},
   "outputs": [
    {
     "data": {
      "text/html": [
       "<div>\n",
       "<style scoped>\n",
       "    .dataframe tbody tr th:only-of-type {\n",
       "        vertical-align: middle;\n",
       "    }\n",
       "\n",
       "    .dataframe tbody tr th {\n",
       "        vertical-align: top;\n",
       "    }\n",
       "\n",
       "    .dataframe thead th {\n",
       "        text-align: right;\n",
       "    }\n",
       "</style>\n",
       "<table border=\"1\" class=\"dataframe\">\n",
       "  <thead>\n",
       "    <tr style=\"text-align: right;\">\n",
       "      <th></th>\n",
       "      <th>Quantidade</th>\n",
       "      <th>prob</th>\n",
       "    </tr>\n",
       "  </thead>\n",
       "  <tbody>\n",
       "    <tr>\n",
       "      <th>marlboro</th>\n",
       "      <td>118</td>\n",
       "      <td>0.044478</td>\n",
       "    </tr>\n",
       "    <tr>\n",
       "      <th>rt</th>\n",
       "      <td>50</td>\n",
       "      <td>0.018847</td>\n",
       "    </tr>\n",
       "    <tr>\n",
       "      <th>the</th>\n",
       "      <td>37</td>\n",
       "      <td>0.013946</td>\n",
       "    </tr>\n",
       "    <tr>\n",
       "      <th>a</th>\n",
       "      <td>33</td>\n",
       "      <td>0.012439</td>\n",
       "    </tr>\n",
       "    <tr>\n",
       "      <th>i</th>\n",
       "      <td>30</td>\n",
       "      <td>0.011308</td>\n",
       "    </tr>\n",
       "  </tbody>\n",
       "</table>\n",
       "</div>"
      ],
      "text/plain": [
       "          Quantidade      prob\n",
       "marlboro         118  0.044478\n",
       "rt                50  0.018847\n",
       "the               37  0.013946\n",
       "a                 33  0.012439\n",
       "i                 30  0.011308"
      ]
     },
     "execution_count": 130,
     "metadata": {},
     "output_type": "execute_result"
    }
   ],
   "source": [
    "for p in Relevantes.index:\n",
    "    Relevantes[p]+=1\n",
    "\n",
    "dfre = Relevantes.to_frame()\n",
    "dfre.columns = [\"Quantidade\"]\n",
    "dfre[\"prob\"] = dfre[\"Quantidade\"]/Relevantes.sum()\n",
    "dfre.head()"
   ]
  },
  {
   "cell_type": "code",
   "execution_count": 131,
   "metadata": {},
   "outputs": [],
   "source": [
    "listatotal = list(dfre.index)+list(dfi.index)\n",
    "totaldif = len(set(listatotal))"
   ]
  },
  {
   "cell_type": "code",
   "execution_count": 132,
   "metadata": {},
   "outputs": [],
   "source": [
    "trele = len(list(dfre.index))\n",
    "tirre = len(list(dfi.index))\n",
    "c_rele = trele/totaldif\n",
    "c_irre = tirre/totaldif"
   ]
  },
  {
   "cell_type": "code",
   "execution_count": 133,
   "metadata": {},
   "outputs": [],
   "source": [
    "def classificador(a):\n",
    "    probreli = []\n",
    "    probeirri = []\n",
    "    palavratweetsLimpo = a.replace('.','')\n",
    "    palavratweetsLimpo = palavratweetsLimpo.replace(',','')\n",
    "    palavratweetsLimpo = palavratweetsLimpo.replace(';','')\n",
    "    palavratweetsLimpo = palavratweetsLimpo.replace(':','')\n",
    "    palavratweetsLimpo = palavratweetsLimpo.replace('\"','')\n",
    "    palavratweetsLimpo = palavratweetsLimpo.replace('!','')\n",
    "    palavratweetsLimpo = palavratweetsLimpo.replace('(','')\n",
    "    palavratweetsLimpo = palavratweetsLimpo.replace(')','')\n",
    "    palavratweetsLimpo = palavratweetsLimpo.replace('?','')\n",
    "    palavratweetsLimpo = palavratweetsLimpo.replace('*','')\n",
    "    palavratweets = palavratweetsLimpo.split(' ')\n",
    "    for e in palavratweets:\n",
    "        if e not in dfre.index:\n",
    "            probreli.append(1/(Releaspera + totaldif))\n",
    "            \n",
    "        if e not in dfi.index:\n",
    "            probeirri.append(1/(Irreaspera + totaldif))\n",
    "            \n",
    "        if e in dfre.index:\n",
    "            probreli.append(dfre.prob[e])\n",
    "        if e in dfi.index:\n",
    "            probeirri.append(dfi.prob[e])\n",
    "    m_irri = 1\n",
    "    m_reli = 1\n",
    "    for z in probeirri:\n",
    "        m_irri*=z\n",
    "    for j in probreli:\n",
    "        m_reli*=j\n",
    "    f_irre = c_irre*m_irri\n",
    "    f_reli = c_rele*m_reli\n",
    "    #print(\"Relevantes\")\n",
    "    #print(f_reli)\n",
    "    #print(\"Irrelevante\")\n",
    "    #print(f_irre)\n",
    "    if f_irre > f_reli:\n",
    "        return 0\n",
    "    else:\n",
    "        return 1"
   ]
  },
  {
   "cell_type": "code",
   "execution_count": 144,
   "metadata": {},
   "outputs": [
    {
     "name": "stdout",
     "output_type": "stream",
     "text": [
      "1\n"
     ]
    }
   ],
   "source": [
    "print(classificador(\"marlboro reds\"))"
   ]
  },
  {
   "cell_type": "code",
   "execution_count": 145,
   "metadata": {},
   "outputs": [
    {
     "data": {
      "text/html": [
       "<div>\n",
       "<style scoped>\n",
       "    .dataframe tbody tr th:only-of-type {\n",
       "        vertical-align: middle;\n",
       "    }\n",
       "\n",
       "    .dataframe tbody tr th {\n",
       "        vertical-align: top;\n",
       "    }\n",
       "\n",
       "    .dataframe thead th {\n",
       "        text-align: right;\n",
       "    }\n",
       "</style>\n",
       "<table border=\"1\" class=\"dataframe\">\n",
       "  <thead>\n",
       "    <tr style=\"text-align: right;\">\n",
       "      <th></th>\n",
       "      <th>Teste</th>\n",
       "      <th>Relevante</th>\n",
       "    </tr>\n",
       "  </thead>\n",
       "  <tbody>\n",
       "    <tr>\n",
       "      <th>0</th>\n",
       "      <td>rt @seanlynch845: final: cornwall 16, marlboro...</td>\n",
       "      <td>0</td>\n",
       "    </tr>\n",
       "    <tr>\n",
       "      <th>1</th>\n",
       "      <td>rt @1990sf1: ayrton senna (marlboro mclaren-ho...</td>\n",
       "      <td>1</td>\n",
       "    </tr>\n",
       "    <tr>\n",
       "      <th>2</th>\n",
       "      <td>game day!!!! home opener vs marlboro 230 pm.</td>\n",
       "      <td>0</td>\n",
       "    </tr>\n",
       "    <tr>\n",
       "      <th>3</th>\n",
       "      <td>rt @lbdfc: final score marlboro 10 leominster ...</td>\n",
       "      <td>0</td>\n",
       "    </tr>\n",
       "    <tr>\n",
       "      <th>4</th>\n",
       "      <td>rt @mattmcnamaratv_: cornwall with impressive ...</td>\n",
       "      <td>0</td>\n",
       "    </tr>\n",
       "  </tbody>\n",
       "</table>\n",
       "</div>"
      ],
      "text/plain": [
       "                                               Teste  Relevante\n",
       "0  rt @seanlynch845: final: cornwall 16, marlboro...          0\n",
       "1  rt @1990sf1: ayrton senna (marlboro mclaren-ho...          1\n",
       "2       game day!!!! home opener vs marlboro 230 pm.          0\n",
       "3  rt @lbdfc: final score marlboro 10 leominster ...          0\n",
       "4  rt @mattmcnamaratv_: cornwall with impressive ...          0"
      ]
     },
     "execution_count": 145,
     "metadata": {},
     "output_type": "execute_result"
    }
   ],
   "source": [
    "teste = pd.read_excel('tweetsteste.xlsx')\n",
    "teste = teste.loc[:,[\"Teste\",\"Relevante\"]]\n",
    "teste.head()"
   ]
  },
  {
   "cell_type": "code",
   "execution_count": 146,
   "metadata": {},
   "outputs": [
    {
     "data": {
      "text/html": [
       "<div>\n",
       "<style scoped>\n",
       "    .dataframe tbody tr th:only-of-type {\n",
       "        vertical-align: middle;\n",
       "    }\n",
       "\n",
       "    .dataframe tbody tr th {\n",
       "        vertical-align: top;\n",
       "    }\n",
       "\n",
       "    .dataframe thead th {\n",
       "        text-align: right;\n",
       "    }\n",
       "</style>\n",
       "<table border=\"1\" class=\"dataframe\">\n",
       "  <thead>\n",
       "    <tr style=\"text-align: right;\">\n",
       "      <th></th>\n",
       "      <th>Teste</th>\n",
       "      <th>Relevante</th>\n",
       "      <th>Classificador</th>\n",
       "    </tr>\n",
       "  </thead>\n",
       "  <tbody>\n",
       "    <tr>\n",
       "      <th>0</th>\n",
       "      <td>rt @seanlynch845: final: cornwall 16, marlboro...</td>\n",
       "      <td>0</td>\n",
       "      <td>0</td>\n",
       "    </tr>\n",
       "    <tr>\n",
       "      <th>1</th>\n",
       "      <td>rt @1990sf1: ayrton senna (marlboro mclaren-ho...</td>\n",
       "      <td>1</td>\n",
       "      <td>1</td>\n",
       "    </tr>\n",
       "    <tr>\n",
       "      <th>2</th>\n",
       "      <td>game day!!!! home opener vs marlboro 230 pm.</td>\n",
       "      <td>0</td>\n",
       "      <td>0</td>\n",
       "    </tr>\n",
       "    <tr>\n",
       "      <th>3</th>\n",
       "      <td>rt @lbdfc: final score marlboro 10 leominster ...</td>\n",
       "      <td>0</td>\n",
       "      <td>0</td>\n",
       "    </tr>\n",
       "    <tr>\n",
       "      <th>4</th>\n",
       "      <td>rt @mattmcnamaratv_: cornwall with impressive ...</td>\n",
       "      <td>0</td>\n",
       "      <td>0</td>\n",
       "    </tr>\n",
       "  </tbody>\n",
       "</table>\n",
       "</div>"
      ],
      "text/plain": [
       "                                               Teste  Relevante  Classificador\n",
       "0  rt @seanlynch845: final: cornwall 16, marlboro...          0              0\n",
       "1  rt @1990sf1: ayrton senna (marlboro mclaren-ho...          1              1\n",
       "2       game day!!!! home opener vs marlboro 230 pm.          0              0\n",
       "3  rt @lbdfc: final score marlboro 10 leominster ...          0              0\n",
       "4  rt @mattmcnamaratv_: cornwall with impressive ...          0              0"
      ]
     },
     "execution_count": 146,
     "metadata": {},
     "output_type": "execute_result"
    }
   ],
   "source": [
    "teste[\"Classificador\"] = teste['Teste'].apply(classificador)\n",
    "teste.head()"
   ]
  },
  {
   "cell_type": "code",
   "execution_count": 161,
   "metadata": {},
   "outputs": [],
   "source": [
    "def limpador(a):\n",
    "    if a != 'True':\n",
    "        return \"False\"\n",
    "    else:\n",
    "        return \"True\"\n",
    "    "
   ]
  },
  {
   "cell_type": "code",
   "execution_count": 173,
   "metadata": {},
   "outputs": [],
   "source": [
    "teste[\"Resultado\"] = teste.Relevante.where(teste.Relevante != teste.Classificador, 'True')"
   ]
  },
  {
   "cell_type": "code",
   "execution_count": 166,
   "metadata": {},
   "outputs": [
    {
     "data": {
      "text/plain": [
       "True     170\n",
       "False     30\n",
       "Name: Resultado, dtype: int64"
      ]
     },
     "execution_count": 166,
     "metadata": {},
     "output_type": "execute_result"
    }
   ],
   "source": [
    "teste[\"Resultado\"] = teste[\"Resultado\"].apply(limpador)\n",
    "teste[\"Resultado\"].value_counts()"
   ]
  },
  {
   "cell_type": "code",
   "execution_count": 172,
   "metadata": {},
   "outputs": [
    {
     "data": {
      "text/plain": [
       "85.0"
      ]
     },
     "execution_count": 172,
     "metadata": {},
     "output_type": "execute_result"
    }
   ],
   "source": [
    "frequencia = (170/200)*100\n",
    "frequencia"
   ]
  },
  {
   "cell_type": "markdown",
   "metadata": {},
   "source": [
    "___\n",
    "## Concluindo\n",
    "\n",
    "Escreva aqui a sua conclusão.<br /> \n",
    "Faça um comparativo qualitativo sobre as medidas obtidas.<br />\n",
    "Explique como são tratadas as mensagens com dupla negação e sarcasmo.<br />\n",
    "Proponha um plano de expansão. Por que eles devem continuar financiando o seu projeto?<br />\n",
    "\n",
    "Opcionalmente: \n",
    "* Discorrer por que não posso alimentar minha base de Treinamento automaticamente usando o próprio classificador, aplicado a novos tweets.\n",
    "* Propor diferentes cenários de uso para o classificador Naive-Bayes. Cenários sem intersecção com este projeto.\n",
    "* Sugerir e explicar melhorias reais no classificador com indicações concretas de como implementar (não é preciso codificar, mas indicar como fazer e material de pesquisa sobre o assunto).\n"
   ]
  },
  {
   "cell_type": "code",
   "execution_count": null,
   "metadata": {},
   "outputs": [],
   "source": []
  }
 ],
 "metadata": {
  "kernelspec": {
   "display_name": "Python 3",
   "language": "python",
   "name": "python3"
  },
  "language_info": {
   "codemirror_mode": {
    "name": "ipython",
    "version": 3
   },
   "file_extension": ".py",
   "mimetype": "text/x-python",
   "name": "python",
   "nbconvert_exporter": "python",
   "pygments_lexer": "ipython3",
   "version": "3.6.4"
  }
 },
 "nbformat": 4,
 "nbformat_minor": 2
}
