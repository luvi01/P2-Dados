{
 "cells": [
  {
   "cell_type": "markdown",
   "metadata": {},
   "source": [
    "# Projeto 2 - Classificador Automático de Sentimento\n",
    "\n",
    "Você foi contratado por uma empresa para analisar como os clientes estão reagindo a um determinado produto no Twitter. A empresa deseja que você crie um programa que irá analisar as mensagens disponíveis e classificará como \"relevante\" ou \"irrelevante\". Com isso ela deseja que mensagens negativas, que denigrem o nome do produto, ou que mereçam destaque, disparem um foco de atenção da área de marketing.<br /><br />\n",
    "Como aluno de Ciência dos Dados, você lembrou do Teorema de Bayes, mais especificamente do Classificador Naive-Bayes, que é largamente utilizado em filtros anti-spam de e-mails. O classificador permite calcular qual a probabilidade de uma mensagem ser relevante dadas as palavras em seu conteúdo.<br /><br />\n",
    "Para realizar o MVP (*minimum viable product*) do projeto, você precisa implementar uma versão do classificador que \"aprende\" o que é relevante com uma base de treinamento e compara a performance dos resultados com uma base de testes.<br /><br />\n",
    "Após validado, o seu protótipo poderá também capturar e classificar automaticamente as mensagens da plataforma.\n",
    "\n",
    "## Informações do Projeto\n",
    "\n",
    "Prazo: 19/Set até às 23:59.<br />\n",
    "Grupo: 2 ou 3 pessoas - grupos com 3 pessoas terá uma rubrica diferenciada.<br /><br />\n",
    "Entregáveis via GitHub: \n",
    "* Arquivo notebook com o código do classificador, seguindo as orientações abaixo.\n",
    "* Arquivo Excel com as bases de treinamento e teste totalmente classificado.\n",
    "\n",
    "**NÃO gravar a key do professor no arquivo**\n",
    "\n",
    "\n",
    "### Entrega Intermediária: Check 1 - APS 2\n",
    "\n",
    "Até o dia 10/Set às 23:59, xlsx deve estar no Github com as seguintes evidências: \n",
    "\n",
    "  * Produto escolhido.\n",
    "  * Arquivo Excel contendo a base de treinamento e a base de testes já classificadas.\n",
    "\n",
    "Sugestão de leitura:<br />\n",
    "https://monkeylearn.com/blog/practical-explanation-naive-bayes-classifier/"
   ]
  },
  {
   "cell_type": "markdown",
   "metadata": {},
   "source": [
    "___\n",
    "\n",
    "## Parte I - Adquirindo a Base de Dados\n",
    "\n",
    "Acessar o notebook **Projeto-2-Planilha** para realizar a coleta dos dados. O grupo deve classificar os dados coletados manualmente."
   ]
  },
  {
   "cell_type": "markdown",
   "metadata": {},
   "source": [
    "___\n",
    "## Parte II - Montando o Classificador Naive-Bayes\n",
    "\n",
    "Com a base de treinamento montada, comece a desenvolver o classificador. Não se esqueça de implementar o Laplace Smoothing (https://en.wikipedia.org/wiki/Laplace_smoothing).\n",
    "\n",
    "Opcionalmente: \n",
    "* Limpar as mensagens removendo os caracteres: enter, :, \", ', (, ), etc. Não remover emojis.<br />\n",
    "* Corrigir separação de espaços entre palavras e/ou emojis.\n",
    "* Propor outras limpezas/transformações que não afetem a qualidade da informação.\n",
    "\n",
    "Escreva o seu código abaixo:"
   ]
  },
  {
   "cell_type": "code",
   "execution_count": 1,
   "metadata": {},
   "outputs": [
    {
     "name": "stdout",
     "output_type": "stream",
     "text": [
      "Requirement already up-to-date: emoji in /anaconda3/lib/python3.6/site-packages (0.5.1)\n",
      "\u001b[33mYou are using pip version 10.0.1, however version 18.0 is available.\n",
      "You should consider upgrading via the 'pip install --upgrade pip' command.\u001b[0m\n"
     ]
    }
   ],
   "source": [
    "import sys\n",
    "!{sys.executable} -m pip install emoji --upgrade"
   ]
  },
  {
   "cell_type": "code",
   "execution_count": 2,
   "metadata": {},
   "outputs": [],
   "source": [
    "import pandas as pd\n",
    "import numpy as np\n",
    "import json\n",
    "import emoji as m\n",
    "treinamento = pd.read_excel('tweetsmarlboro.xlsx')\n",
    "treinamento = treinamento.loc[:,[\"Treinamento\",\"Relevante\"]]\n",
    "treinamento.head()\n",
    "relevantes = treinamento[(treinamento['Relevante']==1)]\n",
    "irrelevantes = treinamento[(treinamento['Relevante']==0)]"
   ]
  },
  {
   "cell_type": "code",
   "execution_count": 3,
   "metadata": {},
   "outputs": [],
   "source": [
    "def emoji(st):\n",
    "    lista=[]\n",
    "    for l in st:\n",
    "        if l in m.UNICODE_EMOJI:\n",
    "            p = \" \" + l + \" \"\n",
    "            lista.append(p)\n",
    "        else:\n",
    "            lista.append(l)\n",
    "    z = \"\".join(lista)\n",
    "    return z"
   ]
  },
  {
   "cell_type": "code",
   "execution_count": 4,
   "metadata": {},
   "outputs": [
    {
     "data": {
      "text/html": [
       "<div>\n",
       "<style scoped>\n",
       "    .dataframe tbody tr th:only-of-type {\n",
       "        vertical-align: middle;\n",
       "    }\n",
       "\n",
       "    .dataframe tbody tr th {\n",
       "        vertical-align: top;\n",
       "    }\n",
       "\n",
       "    .dataframe thead th {\n",
       "        text-align: right;\n",
       "    }\n",
       "</style>\n",
       "<table border=\"1\" class=\"dataframe\">\n",
       "  <thead>\n",
       "    <tr style=\"text-align: right;\">\n",
       "      <th></th>\n",
       "      <th>Treinamento</th>\n",
       "      <th>Relevante</th>\n",
       "    </tr>\n",
       "  </thead>\n",
       "  <tbody>\n",
       "    <tr>\n",
       "      <th>0</th>\n",
       "      <td>rt @1990sf1: ayrton senna (marlboro mclaren-ho...</td>\n",
       "      <td>1.0</td>\n",
       "    </tr>\n",
       "    <tr>\n",
       "      <th>1</th>\n",
       "      <td>nws alert&amp;gt; flood advisory: affected locatio...</td>\n",
       "      <td>0.0</td>\n",
       "    </tr>\n",
       "    <tr>\n",
       "      <th>2</th>\n",
       "      <td>rt @1990sf1: ayrton senna (marlboro mclaren-ho...</td>\n",
       "      <td>1.0</td>\n",
       "    </tr>\n",
       "    <tr>\n",
       "      <th>3</th>\n",
       "      <td>ciggie jacket look from yesterday\\n#marlboro #...</td>\n",
       "      <td>1.0</td>\n",
       "    </tr>\n",
       "    <tr>\n",
       "      <th>4</th>\n",
       "      <td>at least four marlboro men have died of smokin...</td>\n",
       "      <td>1.0</td>\n",
       "    </tr>\n",
       "  </tbody>\n",
       "</table>\n",
       "</div>"
      ],
      "text/plain": [
       "                                         Treinamento  Relevante\n",
       "0  rt @1990sf1: ayrton senna (marlboro mclaren-ho...        1.0\n",
       "1  nws alert&gt; flood advisory: affected locatio...        0.0\n",
       "2  rt @1990sf1: ayrton senna (marlboro mclaren-ho...        1.0\n",
       "3  ciggie jacket look from yesterday\\n#marlboro #...        1.0\n",
       "4  at least four marlboro men have died of smokin...        1.0"
      ]
     },
     "execution_count": 4,
     "metadata": {},
     "output_type": "execute_result"
    }
   ],
   "source": [
    "treinamento.head()"
   ]
  },
  {
   "cell_type": "code",
   "execution_count": 5,
   "metadata": {
    "scrolled": true
   },
   "outputs": [
    {
     "data": {
      "text/plain": [
       "marlboro                 117\n",
       "rt                        49\n",
       "the                       36\n",
       "a                         32\n",
       "i                         30\n",
       "#f1                       28\n",
       "mp4/6                     27\n",
       "mclaren-honda             27\n",
       "qualifying                27\n",
       "gp                        27\n",
       "7th                       27\n",
       "monza                     27\n",
       "september                 27\n",
       "1991                      27\n",
       "@1990sf1                  27\n",
       "position                  27\n",
       "ayrton                    27\n",
       "pole                      27\n",
       "v12                       27\n",
       "italian                   27\n",
       "https/…                   27\n",
       "senna                     27\n",
       "black                     23\n",
       "of                        22\n",
       "and                       22\n",
       "to                        21\n",
       "in                        20\n",
       "is                        15\n",
       "like                      13\n",
       "for                       13\n",
       "                        ... \n",
       "#interesting               1\n",
       "extremely                  1\n",
       "thankyou                   1\n",
       "largest                    1\n",
       "@youtube                   1\n",
       "schoolwork                 1\n",
       "$10                        1\n",
       "why                        1\n",
       "lmao                       1\n",
       "won't                      1\n",
       "#edgy                      1\n",
       "liked                      1\n",
       "shelves                    1\n",
       "gonna                      1\n",
       "marlboro/camel/etc         1\n",
       "it's                       1\n",
       "prob                       1\n",
       "ask                        1\n",
       "1pm                        1\n",
       "a8                         1\n",
       "read                       1\n",
       "#cigs                      1\n",
       "patrick                    1\n",
       "b's                        1\n",
       "slims~red                  1\n",
       "though                     1\n",
       "https//tco/wytyz5gykq      1\n",
       "np//                       1\n",
       "fun                        1\n",
       "hoping                     1\n",
       "Length: 733, dtype: int64"
      ]
     },
     "execution_count": 5,
     "metadata": {},
     "output_type": "execute_result"
    }
   ],
   "source": [
    "relevantestring = \" \".join(list(relevantes.Treinamento))\n",
    "relevanteslimpo = relevantestring.replace('.','')\n",
    "relevanteslimpo = relevanteslimpo.replace(',','')\n",
    "relevanteslimpo = relevanteslimpo.replace(';','')\n",
    "relevanteslimpo = relevanteslimpo.replace(':','')\n",
    "relevanteslimpo = relevanteslimpo.replace('\"','')\n",
    "relevanteslimpo = relevanteslimpo.replace('!','')\n",
    "relevanteslimpo = relevanteslimpo.replace('(','')\n",
    "relevanteslimpo = relevanteslimpo.replace(')','')\n",
    "relevanteslimpo = relevanteslimpo.replace('?','')\n",
    "relevanteslimpo = relevanteslimpo.replace('*','')\n",
    "relevanteslimpo = emoji(relevanteslimpo)      \n",
    "Relevantes = pd.Series((relevanteslimpo).split()).value_counts()\n",
    "Relevantes"
   ]
  },
  {
   "cell_type": "code",
   "execution_count": 6,
   "metadata": {},
   "outputs": [
    {
     "data": {
      "text/plain": [
       "marlboro    146\n",
       "md          115\n",
       "rt          110\n",
       "the          98\n",
       "a            52\n",
       "dtype: int64"
      ]
     },
     "execution_count": 6,
     "metadata": {},
     "output_type": "execute_result"
    }
   ],
   "source": [
    "irrelevantestring = \" \".join(list(irrelevantes.Treinamento))\n",
    "irrelevanteslimpo = irrelevantestring.replace('.','')\n",
    "irrelevanteslimpo = irrelevanteslimpo.replace(',','')\n",
    "irrelevanteslimpo = irrelevanteslimpo.replace(';','')\n",
    "irrelevanteslimpo = irrelevanteslimpo.replace(':','')\n",
    "irrelevanteslimpo = irrelevanteslimpo.replace('\"','')\n",
    "irrelevanteslimpo = irrelevanteslimpo.replace('!','')\n",
    "irrelevanteslimpo = irrelevanteslimpo.replace('(','')\n",
    "irrelevanteslimpo = irrelevanteslimpo.replace(')','')\n",
    "irrelevanteslimpo = irrelevanteslimpo.replace('?','')\n",
    "irrelevanteslimpo = irrelevanteslimpo.replace('*','')\n",
    "irrelevanteslimpo = emoji(irrelevanteslimpo)\n",
    "Irrelevantes = pd.Series((irrelevanteslimpo).split()).value_counts()\n",
    "Irrelevantes.head()"
   ]
  },
  {
   "cell_type": "code",
   "execution_count": 7,
   "metadata": {},
   "outputs": [
    {
     "data": {
      "text/plain": [
       "3412"
      ]
     },
     "execution_count": 7,
     "metadata": {},
     "output_type": "execute_result"
    }
   ],
   "source": [
    "Irreaspera = Irrelevantes.sum()\n",
    "Releaspera = Relevantes.sum()\n",
    "Irreaspera"
   ]
  },
  {
   "cell_type": "code",
   "execution_count": 8,
   "metadata": {},
   "outputs": [],
   "source": [
    "for p in Irrelevantes.index:\n",
    "    Irrelevantes[p]+=1"
   ]
  },
  {
   "cell_type": "code",
   "execution_count": 9,
   "metadata": {},
   "outputs": [
    {
     "data": {
      "text/plain": [
       "4422"
      ]
     },
     "execution_count": 9,
     "metadata": {},
     "output_type": "execute_result"
    }
   ],
   "source": [
    "irretotal = Irrelevantes.sum()\n",
    "irretotal"
   ]
  },
  {
   "cell_type": "code",
   "execution_count": 10,
   "metadata": {},
   "outputs": [],
   "source": [
    "dfi = Irrelevantes.to_frame()\n",
    "dfi.columns = [\"Quantidade\"]"
   ]
  },
  {
   "cell_type": "code",
   "execution_count": 11,
   "metadata": {},
   "outputs": [],
   "source": [
    "dfi[\"prob\"] = dfi[\"Quantidade\"]/irretotal"
   ]
  },
  {
   "cell_type": "code",
   "execution_count": 12,
   "metadata": {},
   "outputs": [
    {
     "data": {
      "text/html": [
       "<div>\n",
       "<style scoped>\n",
       "    .dataframe tbody tr th:only-of-type {\n",
       "        vertical-align: middle;\n",
       "    }\n",
       "\n",
       "    .dataframe tbody tr th {\n",
       "        vertical-align: top;\n",
       "    }\n",
       "\n",
       "    .dataframe thead th {\n",
       "        text-align: right;\n",
       "    }\n",
       "</style>\n",
       "<table border=\"1\" class=\"dataframe\">\n",
       "  <thead>\n",
       "    <tr style=\"text-align: right;\">\n",
       "      <th></th>\n",
       "      <th>Quantidade</th>\n",
       "      <th>prob</th>\n",
       "    </tr>\n",
       "  </thead>\n",
       "  <tbody>\n",
       "    <tr>\n",
       "      <th>marlboro</th>\n",
       "      <td>147</td>\n",
       "      <td>0.033243</td>\n",
       "    </tr>\n",
       "    <tr>\n",
       "      <th>md</th>\n",
       "      <td>116</td>\n",
       "      <td>0.026232</td>\n",
       "    </tr>\n",
       "    <tr>\n",
       "      <th>rt</th>\n",
       "      <td>111</td>\n",
       "      <td>0.025102</td>\n",
       "    </tr>\n",
       "    <tr>\n",
       "      <th>the</th>\n",
       "      <td>99</td>\n",
       "      <td>0.022388</td>\n",
       "    </tr>\n",
       "    <tr>\n",
       "      <th>a</th>\n",
       "      <td>53</td>\n",
       "      <td>0.011986</td>\n",
       "    </tr>\n",
       "  </tbody>\n",
       "</table>\n",
       "</div>"
      ],
      "text/plain": [
       "          Quantidade      prob\n",
       "marlboro         147  0.033243\n",
       "md               116  0.026232\n",
       "rt               111  0.025102\n",
       "the               99  0.022388\n",
       "a                 53  0.011986"
      ]
     },
     "execution_count": 12,
     "metadata": {},
     "output_type": "execute_result"
    }
   ],
   "source": [
    "dfi.head()"
   ]
  },
  {
   "cell_type": "code",
   "execution_count": 13,
   "metadata": {},
   "outputs": [
    {
     "data": {
      "text/html": [
       "<div>\n",
       "<style scoped>\n",
       "    .dataframe tbody tr th:only-of-type {\n",
       "        vertical-align: middle;\n",
       "    }\n",
       "\n",
       "    .dataframe tbody tr th {\n",
       "        vertical-align: top;\n",
       "    }\n",
       "\n",
       "    .dataframe thead th {\n",
       "        text-align: right;\n",
       "    }\n",
       "</style>\n",
       "<table border=\"1\" class=\"dataframe\">\n",
       "  <thead>\n",
       "    <tr style=\"text-align: right;\">\n",
       "      <th></th>\n",
       "      <th>Quantidade</th>\n",
       "      <th>prob</th>\n",
       "    </tr>\n",
       "  </thead>\n",
       "  <tbody>\n",
       "    <tr>\n",
       "      <th>marlboro</th>\n",
       "      <td>118</td>\n",
       "      <td>0.044079</td>\n",
       "    </tr>\n",
       "    <tr>\n",
       "      <th>rt</th>\n",
       "      <td>50</td>\n",
       "      <td>0.018678</td>\n",
       "    </tr>\n",
       "    <tr>\n",
       "      <th>the</th>\n",
       "      <td>37</td>\n",
       "      <td>0.013821</td>\n",
       "    </tr>\n",
       "    <tr>\n",
       "      <th>a</th>\n",
       "      <td>33</td>\n",
       "      <td>0.012327</td>\n",
       "    </tr>\n",
       "    <tr>\n",
       "      <th>i</th>\n",
       "      <td>31</td>\n",
       "      <td>0.011580</td>\n",
       "    </tr>\n",
       "  </tbody>\n",
       "</table>\n",
       "</div>"
      ],
      "text/plain": [
       "          Quantidade      prob\n",
       "marlboro         118  0.044079\n",
       "rt                50  0.018678\n",
       "the               37  0.013821\n",
       "a                 33  0.012327\n",
       "i                 31  0.011580"
      ]
     },
     "execution_count": 13,
     "metadata": {},
     "output_type": "execute_result"
    }
   ],
   "source": [
    "for p in Relevantes.index:\n",
    "    Relevantes[p]+=1\n",
    "\n",
    "dfre = Relevantes.to_frame()\n",
    "dfre.columns = [\"Quantidade\"]\n",
    "dfre[\"prob\"] = dfre[\"Quantidade\"]/Relevantes.sum()\n",
    "dfre.head()"
   ]
  },
  {
   "cell_type": "code",
   "execution_count": 14,
   "metadata": {},
   "outputs": [],
   "source": [
    "listatotal = list(dfre.index)+list(dfi.index)\n",
    "totaldif = len(set(listatotal))"
   ]
  },
  {
   "cell_type": "code",
   "execution_count": 15,
   "metadata": {},
   "outputs": [],
   "source": [
    "trele = len(list(dfre.index))\n",
    "tirre = len(list(dfi.index))\n",
    "c_rele = trele/totaldif\n",
    "c_irre = tirre/totaldif"
   ]
  },
  {
   "cell_type": "code",
   "execution_count": 16,
   "metadata": {},
   "outputs": [],
   "source": [
    "def classificador(a):\n",
    "    probreli = []\n",
    "    probeirri = []\n",
    "    palavratweetsLimpo = a.replace('.','')\n",
    "    palavratweetsLimpo = palavratweetsLimpo.replace(',','')\n",
    "    palavratweetsLimpo = palavratweetsLimpo.replace(';','')\n",
    "    palavratweetsLimpo = palavratweetsLimpo.replace(':','')\n",
    "    palavratweetsLimpo = palavratweetsLimpo.replace('\"','')\n",
    "    palavratweetsLimpo = palavratweetsLimpo.replace('!','')\n",
    "    palavratweetsLimpo = palavratweetsLimpo.replace('(','')\n",
    "    palavratweetsLimpo = palavratweetsLimpo.replace(')','')\n",
    "    palavratweetsLimpo = palavratweetsLimpo.replace('?','')\n",
    "    palavratweetsLimpo = palavratweetsLimpo.replace('*','')\n",
    "    palavratweets = palavratweetsLimpo.split(' ')\n",
    "    for e in palavratweets:\n",
    "        if e not in dfre.index:\n",
    "            probreli.append(1/(Releaspera + totaldif))\n",
    "            \n",
    "        if e not in dfi.index:\n",
    "            probeirri.append(1/(Irreaspera + totaldif))\n",
    "            \n",
    "        if e in dfre.index:\n",
    "            probreli.append(dfre.prob[e])\n",
    "        if e in dfi.index:\n",
    "            probeirri.append(dfi.prob[e])\n",
    "    m_irri = 1\n",
    "    m_reli = 1\n",
    "    for z in probeirri:\n",
    "        m_irri*=z\n",
    "    for j in probreli:\n",
    "        m_reli*=j\n",
    "    f_irre = c_irre*m_irri\n",
    "    f_reli = c_rele*m_reli\n",
    "    #print(\"Relevantes\")\n",
    "    #print(f_reli)\n",
    "    #print(\"Irrelevante\")\n",
    "    #print(f_irre)\n",
    "    if f_irre > f_reli:\n",
    "        return 0\n",
    "    else:\n",
    "        return 1"
   ]
  },
  {
   "cell_type": "code",
   "execution_count": 17,
   "metadata": {},
   "outputs": [
    {
     "name": "stdout",
     "output_type": "stream",
     "text": [
      "1\n"
     ]
    }
   ],
   "source": [
    "print(classificador(\"marlboro reds\"))"
   ]
  },
  {
   "cell_type": "code",
   "execution_count": 18,
   "metadata": {},
   "outputs": [
    {
     "data": {
      "text/html": [
       "<div>\n",
       "<style scoped>\n",
       "    .dataframe tbody tr th:only-of-type {\n",
       "        vertical-align: middle;\n",
       "    }\n",
       "\n",
       "    .dataframe tbody tr th {\n",
       "        vertical-align: top;\n",
       "    }\n",
       "\n",
       "    .dataframe thead th {\n",
       "        text-align: right;\n",
       "    }\n",
       "</style>\n",
       "<table border=\"1\" class=\"dataframe\">\n",
       "  <thead>\n",
       "    <tr style=\"text-align: right;\">\n",
       "      <th></th>\n",
       "      <th>Teste</th>\n",
       "      <th>Relevante</th>\n",
       "    </tr>\n",
       "  </thead>\n",
       "  <tbody>\n",
       "    <tr>\n",
       "      <th>0</th>\n",
       "      <td>rt @seanlynch845: final: cornwall 16, marlboro...</td>\n",
       "      <td>0</td>\n",
       "    </tr>\n",
       "    <tr>\n",
       "      <th>1</th>\n",
       "      <td>rt @1990sf1: ayrton senna (marlboro mclaren-ho...</td>\n",
       "      <td>1</td>\n",
       "    </tr>\n",
       "    <tr>\n",
       "      <th>2</th>\n",
       "      <td>game day!!!! home opener vs marlboro 230 pm.</td>\n",
       "      <td>0</td>\n",
       "    </tr>\n",
       "    <tr>\n",
       "      <th>3</th>\n",
       "      <td>rt @lbdfc: final score marlboro 10 leominster ...</td>\n",
       "      <td>0</td>\n",
       "    </tr>\n",
       "    <tr>\n",
       "      <th>4</th>\n",
       "      <td>rt @mattmcnamaratv_: cornwall with impressive ...</td>\n",
       "      <td>0</td>\n",
       "    </tr>\n",
       "  </tbody>\n",
       "</table>\n",
       "</div>"
      ],
      "text/plain": [
       "                                               Teste  Relevante\n",
       "0  rt @seanlynch845: final: cornwall 16, marlboro...          0\n",
       "1  rt @1990sf1: ayrton senna (marlboro mclaren-ho...          1\n",
       "2       game day!!!! home opener vs marlboro 230 pm.          0\n",
       "3  rt @lbdfc: final score marlboro 10 leominster ...          0\n",
       "4  rt @mattmcnamaratv_: cornwall with impressive ...          0"
      ]
     },
     "execution_count": 18,
     "metadata": {},
     "output_type": "execute_result"
    }
   ],
   "source": [
    "teste = pd.read_excel('tweetsteste.xlsx')\n",
    "teste = teste.loc[:,[\"Teste\",\"Relevante\"]]\n",
    "teste.head()"
   ]
  },
  {
   "cell_type": "code",
   "execution_count": 19,
   "metadata": {
    "scrolled": true
   },
   "outputs": [
    {
     "data": {
      "text/html": [
       "<div>\n",
       "<style scoped>\n",
       "    .dataframe tbody tr th:only-of-type {\n",
       "        vertical-align: middle;\n",
       "    }\n",
       "\n",
       "    .dataframe tbody tr th {\n",
       "        vertical-align: top;\n",
       "    }\n",
       "\n",
       "    .dataframe thead th {\n",
       "        text-align: right;\n",
       "    }\n",
       "</style>\n",
       "<table border=\"1\" class=\"dataframe\">\n",
       "  <thead>\n",
       "    <tr style=\"text-align: right;\">\n",
       "      <th></th>\n",
       "      <th>Teste</th>\n",
       "      <th>Relevante</th>\n",
       "      <th>Classificador</th>\n",
       "    </tr>\n",
       "  </thead>\n",
       "  <tbody>\n",
       "    <tr>\n",
       "      <th>0</th>\n",
       "      <td>rt @seanlynch845: final: cornwall 16, marlboro...</td>\n",
       "      <td>0</td>\n",
       "      <td>0</td>\n",
       "    </tr>\n",
       "    <tr>\n",
       "      <th>1</th>\n",
       "      <td>rt @1990sf1: ayrton senna (marlboro mclaren-ho...</td>\n",
       "      <td>1</td>\n",
       "      <td>1</td>\n",
       "    </tr>\n",
       "    <tr>\n",
       "      <th>2</th>\n",
       "      <td>game day!!!! home opener vs marlboro 230 pm.</td>\n",
       "      <td>0</td>\n",
       "      <td>0</td>\n",
       "    </tr>\n",
       "    <tr>\n",
       "      <th>3</th>\n",
       "      <td>rt @lbdfc: final score marlboro 10 leominster ...</td>\n",
       "      <td>0</td>\n",
       "      <td>0</td>\n",
       "    </tr>\n",
       "    <tr>\n",
       "      <th>4</th>\n",
       "      <td>rt @mattmcnamaratv_: cornwall with impressive ...</td>\n",
       "      <td>0</td>\n",
       "      <td>0</td>\n",
       "    </tr>\n",
       "  </tbody>\n",
       "</table>\n",
       "</div>"
      ],
      "text/plain": [
       "                                               Teste  Relevante  Classificador\n",
       "0  rt @seanlynch845: final: cornwall 16, marlboro...          0              0\n",
       "1  rt @1990sf1: ayrton senna (marlboro mclaren-ho...          1              1\n",
       "2       game day!!!! home opener vs marlboro 230 pm.          0              0\n",
       "3  rt @lbdfc: final score marlboro 10 leominster ...          0              0\n",
       "4  rt @mattmcnamaratv_: cornwall with impressive ...          0              0"
      ]
     },
     "execution_count": 19,
     "metadata": {},
     "output_type": "execute_result"
    }
   ],
   "source": [
    "teste[\"Classificador\"] = teste['Teste'].apply(classificador)\n",
    "teste.head()"
   ]
  },
  {
   "cell_type": "code",
   "execution_count": null,
   "metadata": {},
   "outputs": [],
   "source": []
  },
  {
   "cell_type": "code",
   "execution_count": 20,
   "metadata": {},
   "outputs": [],
   "source": [
    "def limpador(a):\n",
    "    if a != 'True':\n",
    "        return \"False\"\n",
    "    else:\n",
    "        return \"True\"\n",
    "    "
   ]
  },
  {
   "cell_type": "code",
   "execution_count": 21,
   "metadata": {},
   "outputs": [],
   "source": [
    "teste[\"Resultado\"] = teste.Relevante.where(teste.Relevante != teste.Classificador, 'True')"
   ]
  },
  {
   "cell_type": "code",
   "execution_count": 29,
   "metadata": {},
   "outputs": [],
   "source": [
    "teste[\"Resultado\"] = teste[\"Resultado\"].apply(limpador)\n",
    "teste[\"Resultado\"].value_counts()\n",
    "teste\n",
    "\n",
    "\n",
    "def f (rel, classe):\n",
    "    if classe==0 and rel==1:\n",
    "        fn = True\n",
    "    return fn\n",
    "\n",
    "#teste = teste.apply(f)\n",
    "\n",
    "teste[\"fn\"] = False"
   ]
  },
  {
   "cell_type": "code",
   "execution_count": null,
   "metadata": {},
   "outputs": [],
   "source": [
    "teste[teste.Resultado == True & teste.Classificador=]"
   ]
  },
  {
   "cell_type": "code",
   "execution_count": 23,
   "metadata": {},
   "outputs": [
    {
     "data": {
      "text/plain": [
       "85.0"
      ]
     },
     "execution_count": 23,
     "metadata": {},
     "output_type": "execute_result"
    }
   ],
   "source": [
    "frequencia = (170/200)*100\n",
    "frequencia"
   ]
  },
  {
   "cell_type": "markdown",
   "metadata": {},
   "source": [
    "___\n",
    "## Concluindo\n",
    "\n",
    "Escreva aqui a sua conclusão.<br /> \n",
    "Faça um comparativo qualitativo sobre as medidas obtidas.<br />\n",
    "Explique como são tratadas as mensagens com dupla negação e sarcasmo.<br />\n",
    "Proponha um plano de expansão. Por que eles devem continuar financiando o seu projeto?<br />\n",
    "\n",
    "Opcionalmente: \n",
    "* Discorrer por que não posso alimentar minha base de Treinamento automaticamente usando o próprio classificador, aplicado a novos tweets.\n",
    "* Propor diferentes cenários de uso para o classificador Naive-Bayes. Cenários sem intersecção com este projeto.\n",
    "* Sugerir e explicar melhorias reais no classificador com indicações concretas de como implementar (não é preciso codificar, mas indicar como fazer e material de pesquisa sobre o assunto).\n"
   ]
  },
  {
   "cell_type": "code",
   "execution_count": null,
   "metadata": {},
   "outputs": [],
   "source": []
  }
 ],
 "metadata": {
  "kernelspec": {
   "display_name": "Python 3",
   "language": "python",
   "name": "python3"
  },
  "language_info": {
   "codemirror_mode": {
    "name": "ipython",
    "version": 3
   },
   "file_extension": ".py",
   "mimetype": "text/x-python",
   "name": "python",
   "nbconvert_exporter": "python",
   "pygments_lexer": "ipython3",
   "version": "3.6.4"
  }
 },
 "nbformat": 4,
 "nbformat_minor": 2
}
